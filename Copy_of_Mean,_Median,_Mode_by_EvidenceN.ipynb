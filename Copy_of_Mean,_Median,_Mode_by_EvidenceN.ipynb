{
  "nbformat": 4,
  "nbformat_minor": 0,
  "metadata": {
    "colab": {
      "name": "Copy of Mean, Median, Mode by EvidenceN.ipynb",
      "provenance": [],
      "collapsed_sections": [],
      "include_colab_link": true
    },
    "kernelspec": {
      "name": "python3",
      "display_name": "Python 3"
    }
  },
  "cells": [
    {
      "cell_type": "markdown",
      "metadata": {
        "id": "view-in-github",
        "colab_type": "text"
      },
      "source": [
        "<a href=\"https://colab.research.google.com/github/EvidenceN/Testing/blob/master/Copy_of_Mean%2C_Median%2C_Mode_by_EvidenceN.ipynb\" target=\"_parent\"><img src=\"https://colab.research.google.com/assets/colab-badge.svg\" alt=\"Open In Colab\"/></a>"
      ]
    },
    {
      "cell_type": "markdown",
      "metadata": {
        "id": "64IYOHQEMgmT",
        "colab_type": "text"
      },
      "source": [
        "# **3 ways to calculate Mean, Median, and Mode in Python**\n",
        "\n",
        "# **Mean**\n",
        "\n",
        "**Mean is described as the total sum of the numbers in a list divided by the length of the numbers in the list.** In simple translation, take all the number in a list and add them up, then divided the total by how many numbers are on the list. \n",
        "\n",
        "\n",
        "# **Median**\n",
        "\n",
        "**Median is described as the middle number when all numbers are sorted from smallest to largest.** In simple translation, sort all numbers in a list from the smallest one to the largest one. Whichever number is in the middle is the median. In the case of having two numbers in the middle, add the two middle numbers together and divide them by 2. The resulting answer from the division by 2 is the median.\n",
        "\n",
        "\n",
        "# **Mode** \n",
        "\n",
        "**Mode is described as the most frequent occurring number when all numbers are sorted from smallest to largest.** In simple translation, when you have a list of numbers, which ever number occurs more often than the other numbers is the mode. If all numbers occurs the same amount of time, then the set of numbers has no mode. \n"
      ]
    },
    {
      "cell_type": "markdown",
      "metadata": {
        "id": "7Fbmq_gsRASE",
        "colab_type": "text"
      },
      "source": [
        "# We will start by learning how to compute mean, median, and mode from scratch without any added help.\n",
        "\n"
      ]
    },
    {
      "cell_type": "markdown",
      "metadata": {
        "id": "5LwsMoD8WC25",
        "colab_type": "text"
      },
      "source": [
        "How to calculate **mean** by **coding from scratch.**"
      ]
    },
    {
      "cell_type": "code",
      "metadata": {
        "id": "VD0FqV2QBBqp",
        "colab_type": "code",
        "outputId": "505793f3-37e6-4d9b-e7e0-5e1dc32a3333",
        "colab": {
          "base_uri": "https://localhost:8080/",
          "height": 34
        }
      },
      "source": [
        "# Mean is described as the total sum of the numbers in a list \n",
        "# divided by the length of the numbers in the list.\n",
        "\n",
        "numbers = [1,2,3,4,5,6,8,8,9,8,7,8,5,6,3,8,2,8,10,11,1,8,5,8,9,3,25,5,6,47,1,2]\n",
        "\n",
        "mean = sum(numbers)/len(numbers)\n",
        "print(mean)\n",
        "\n",
        "# take the sum of the numbers and divide it by how many numbers is in the list"
      ],
      "execution_count": 0,
      "outputs": [
        {
          "output_type": "stream",
          "text": [
            "7.5625\n"
          ],
          "name": "stdout"
        }
      ]
    },
    {
      "cell_type": "code",
      "metadata": {
        "id": "e_OoKpTXIvlL",
        "colab_type": "code",
        "outputId": "5345af86-64bf-4964-bbfc-993db26bd581",
        "colab": {
          "base_uri": "https://localhost:8080/",
          "height": 34
        }
      },
      "source": [
        "# when the mean is rounded up. \n",
        "mean_rounded = round(mean)\n",
        "print(mean_rounded)"
      ],
      "execution_count": 0,
      "outputs": [
        {
          "output_type": "stream",
          "text": [
            "8\n"
          ],
          "name": "stdout"
        }
      ]
    },
    {
      "cell_type": "markdown",
      "metadata": {
        "id": "vcLknMByQ0-h",
        "colab_type": "text"
      },
      "source": [
        "How to calculate **median** by **coding from scratch. **"
      ]
    },
    {
      "cell_type": "code",
      "metadata": {
        "id": "n41qTw_XGZTQ",
        "colab_type": "code",
        "outputId": "6676e715-83a3-4ecb-aeec-e49049640567",
        "colab": {
          "base_uri": "https://localhost:8080/",
          "height": 34
        }
      },
      "source": [
        "# Median is described as the middle number when all numbers are \n",
        "# sorted from smallest to largest.\n",
        "\n",
        "median = sorted(numbers) [len(numbers) // 2]\n",
        "print(median)\n",
        "\n",
        "# // means to \"divide and round to the next smallest whole number\"\n",
        "\n",
        "# first sort the number in increasing order, \n",
        "# then divide the length of the sorted number by 2."
      ],
      "execution_count": 0,
      "outputs": [
        {
          "output_type": "stream",
          "text": [
            "6\n"
          ],
          "name": "stdout"
        }
      ]
    },
    {
      "cell_type": "markdown",
      "metadata": {
        "id": "y-slJZpQO8EZ",
        "colab_type": "text"
      },
      "source": [
        "How to calculate **mode** by **coding from scratch**.\n"
      ]
    },
    {
      "cell_type": "code",
      "metadata": {
        "id": "aXVfnJUbGxeV",
        "colab_type": "code",
        "outputId": "9f3410e6-7183-4f18-a066-629d0689cf52",
        "colab": {
          "base_uri": "https://localhost:8080/",
          "height": 34
        }
      },
      "source": [
        "# Mode is described as the most frequent occurring number when \n",
        "# all numbers are sorted from smallest to largest.\n",
        "\n",
        "mode = max(numbers, key = numbers.count)\n",
        "print(mode)\n",
        "\n",
        "# first figure out what the maximum number is, \n",
        "# then count how many times the maximum number occurs. "
      ],
      "execution_count": 0,
      "outputs": [
        {
          "output_type": "stream",
          "text": [
            "8\n"
          ],
          "name": "stdout"
        }
      ]
    },
    {
      "cell_type": "markdown",
      "metadata": {
        "id": "NMnYFjgnVk9q",
        "colab_type": "text"
      },
      "source": [
        "# Now we are going to use a python module to calculate mean, median and mode.\n"
      ]
    },
    {
      "cell_type": "code",
      "metadata": {
        "id": "mpCd3kiZHZ9V",
        "colab_type": "code",
        "colab": {}
      },
      "source": [
        "# First, we need to import a python module in order to use it for calculations.\n",
        "\n",
        "import statistics"
      ],
      "execution_count": 0,
      "outputs": []
    },
    {
      "cell_type": "markdown",
      "metadata": {
        "id": "8TsH4Po_OjrQ",
        "colab_type": "text"
      },
      "source": [
        "How to calculate **mean** by using **python statistics module.**"
      ]
    },
    {
      "cell_type": "code",
      "metadata": {
        "id": "TR8B3ZG-HvNt",
        "colab_type": "code",
        "outputId": "c45ea688-426b-4a76-f6ef-5f9d373cc886",
        "colab": {
          "base_uri": "https://localhost:8080/",
          "height": 34
        }
      },
      "source": [
        "# we are using \"mean2\" for differentiation purposes. \n",
        "\n",
        "mean2 = statistics.mean(numbers)\n",
        "print(mean2)\n",
        "\n",
        "# mean is a pre-defined function in the statistics module. we are telling it to \n",
        "# use the mean function found in statistics to calculate the \"mean of numbers\" "
      ],
      "execution_count": 0,
      "outputs": [
        {
          "output_type": "stream",
          "text": [
            "7.5625\n"
          ],
          "name": "stdout"
        }
      ]
    },
    {
      "cell_type": "markdown",
      "metadata": {
        "id": "J57BzgyIOW8f",
        "colab_type": "text"
      },
      "source": [
        "How to calculate **median** by using **python statistics module.**"
      ]
    },
    {
      "cell_type": "code",
      "metadata": {
        "id": "qIltzzePH5SM",
        "colab_type": "code",
        "outputId": "b2dacf9b-a532-43e4-c293-3e7056157f4f",
        "colab": {
          "base_uri": "https://localhost:8080/",
          "height": 34
        }
      },
      "source": [
        "median2 = statistics.median(numbers)\n",
        "print(median2)\n",
        "\n",
        "# median is a pre-defined function in the statistics module. we are telling it to \n",
        "# use the median function found in statistics to calculate the \"median of numbers\""
      ],
      "execution_count": 0,
      "outputs": [
        {
          "output_type": "stream",
          "text": [
            "6.0\n"
          ],
          "name": "stdout"
        }
      ]
    },
    {
      "cell_type": "markdown",
      "metadata": {
        "id": "LEPyl8q2OOi1",
        "colab_type": "text"
      },
      "source": [
        "How to calculate **mode** by using **python statistics module.**"
      ]
    },
    {
      "cell_type": "code",
      "metadata": {
        "id": "553yTFQ1INAk",
        "colab_type": "code",
        "outputId": "b95467a2-0a65-4d24-c7ad-0ffc313c9e66",
        "colab": {
          "base_uri": "https://localhost:8080/",
          "height": 34
        }
      },
      "source": [
        "mode2 = statistics.mode(numbers)\n",
        "print(mode2)\n",
        "\n",
        "# mode is a pre-defined function in the statistics module. we are telling it to \n",
        "# use the mode function found in statistics to calculate the \"mode of numbers\""
      ],
      "execution_count": 0,
      "outputs": [
        {
          "output_type": "stream",
          "text": [
            "8\n"
          ],
          "name": "stdout"
        }
      ]
    },
    {
      "cell_type": "markdown",
      "metadata": {
        "id": "KWaUfNtnPKRD",
        "colab_type": "text"
      },
      "source": [
        "# **Up next, we will be writing a function to compute mean, median, and mode in python.**\n",
        "\n",
        "**Why function?**\n",
        "\n",
        "To make calculating mean, median, and mode easy, you can quickly write a function that calculates mean, median, and mode. \n",
        "\n",
        "The purpose of this function is to save you time and energy of typing in the mean, median, and mode formula repeatedly to do calculations through out your code. \n",
        "\n",
        "Whenever you want to do mean, median, and mode calculation, you can just call the mean, median, and mode function instead of typing the formula code again."
      ]
    },
    {
      "cell_type": "markdown",
      "metadata": {
        "id": "kPvYRmpBQAtb",
        "colab_type": "text"
      },
      "source": [
        "Function to calculate **Mean**"
      ]
    },
    {
      "cell_type": "code",
      "metadata": {
        "id": "9_eR79xcITCE",
        "colab_type": "code",
        "colab": {}
      },
      "source": [
        "def mean3(numbers):\n",
        "  mean = sum(numbers)/len(numbers)\n",
        "  return mean"
      ],
      "execution_count": 0,
      "outputs": []
    },
    {
      "cell_type": "markdown",
      "metadata": {
        "id": "qMTqEBzUQEre",
        "colab_type": "text"
      },
      "source": [
        "Function to calculate **Median**"
      ]
    },
    {
      "cell_type": "code",
      "metadata": {
        "id": "ZgCOPMGNP2g9",
        "colab_type": "code",
        "colab": {}
      },
      "source": [
        "def median3(numbers):\n",
        "  median = sorted(numbers) [len(numbers) // 2]\n",
        "  return median"
      ],
      "execution_count": 0,
      "outputs": []
    },
    {
      "cell_type": "markdown",
      "metadata": {
        "id": "icSRLaj_QLvI",
        "colab_type": "text"
      },
      "source": [
        "Function to calculate **Mode**"
      ]
    },
    {
      "cell_type": "code",
      "metadata": {
        "id": "Q3rekEfNP5Zp",
        "colab_type": "code",
        "colab": {}
      },
      "source": [
        "def mode3(numbers):\n",
        "  mode = max(numbers, key = numbers.count)\n",
        "  return mode"
      ],
      "execution_count": 0,
      "outputs": []
    },
    {
      "cell_type": "markdown",
      "metadata": {
        "id": "dxbUnCViQbdY",
        "colab_type": "text"
      },
      "source": [
        "Let's test out our functions"
      ]
    },
    {
      "cell_type": "code",
      "metadata": {
        "id": "5NT7aSEPQfaq",
        "colab_type": "code",
        "outputId": "50039ff5-cecc-4fbd-9453-99ceb5285fed",
        "colab": {
          "base_uri": "https://localhost:8080/",
          "height": 34
        }
      },
      "source": [
        "print(mean3(numbers))"
      ],
      "execution_count": 0,
      "outputs": [
        {
          "output_type": "stream",
          "text": [
            "7.5625\n"
          ],
          "name": "stdout"
        }
      ]
    },
    {
      "cell_type": "code",
      "metadata": {
        "id": "2tpAIFIBQikr",
        "colab_type": "code",
        "outputId": "a07d0912-a3cd-4efd-9cba-25317d8782e6",
        "colab": {
          "base_uri": "https://localhost:8080/",
          "height": 34
        }
      },
      "source": [
        "print(median3(numbers))"
      ],
      "execution_count": 0,
      "outputs": [
        {
          "output_type": "stream",
          "text": [
            "6\n"
          ],
          "name": "stdout"
        }
      ]
    },
    {
      "cell_type": "code",
      "metadata": {
        "id": "1yXHHdArQnvh",
        "colab_type": "code",
        "outputId": "5dc5924c-eb9d-49bd-e594-55c9d4389a44",
        "colab": {
          "base_uri": "https://localhost:8080/",
          "height": 34
        }
      },
      "source": [
        "print(mode3(numbers))"
      ],
      "execution_count": 0,
      "outputs": [
        {
          "output_type": "stream",
          "text": [
            "8\n"
          ],
          "name": "stdout"
        }
      ]
    },
    {
      "cell_type": "code",
      "metadata": {
        "id": "XBKjWVjTNsUu",
        "colab_type": "code",
        "colab": {}
      },
      "source": [
        "hi_there = [1,2,3,1,2,3,1,1,1,1,5,6,4,7,8,9]"
      ],
      "execution_count": 0,
      "outputs": []
    },
    {
      "cell_type": "code",
      "metadata": {
        "id": "ivm_g2kxNz92",
        "colab_type": "code",
        "outputId": "7609599e-e3b4-4c74-810b-9c6fee26d191",
        "colab": {
          "base_uri": "https://localhost:8080/",
          "height": 34
        }
      },
      "source": [
        "mean3(hi_there)"
      ],
      "execution_count": 0,
      "outputs": [
        {
          "output_type": "execute_result",
          "data": {
            "text/plain": [
              "3.4375"
            ]
          },
          "metadata": {
            "tags": []
          },
          "execution_count": 17
        }
      ]
    },
    {
      "cell_type": "code",
      "metadata": {
        "id": "1WkLSvL7N4h9",
        "colab_type": "code",
        "outputId": "4b5cb204-b8ad-471d-cf09-4739f25d8fe5",
        "colab": {
          "base_uri": "https://localhost:8080/",
          "height": 34
        }
      },
      "source": [
        "median3(hi_there)"
      ],
      "execution_count": 0,
      "outputs": [
        {
          "output_type": "execute_result",
          "data": {
            "text/plain": [
              "3"
            ]
          },
          "metadata": {
            "tags": []
          },
          "execution_count": 18
        }
      ]
    },
    {
      "cell_type": "code",
      "metadata": {
        "id": "FJ3dGI40N99O",
        "colab_type": "code",
        "outputId": "35026d3a-ea60-4c4e-b374-611c931f2194",
        "colab": {
          "base_uri": "https://localhost:8080/",
          "height": 51
        }
      },
      "source": [
        "print('Mode is: \\n', mode3(hi_there))"
      ],
      "execution_count": 0,
      "outputs": [
        {
          "output_type": "stream",
          "text": [
            "Mode is: \n",
            " 1\n"
          ],
          "name": "stdout"
        }
      ]
    },
    {
      "cell_type": "markdown",
      "metadata": {
        "id": "FVSURXE4W2gy",
        "colab_type": "text"
      },
      "source": [
        "# ***Click the link below in the description to get a copy of this notebook***\n",
        "\n",
        "# ***Leave a comment below to let me know other ways to calculate mean, median, and mode in python and what you think of this tutorial***\n",
        "\n",
        "# ***If you enjoyed this content, please share it with others to help them learn this concept too. ***\n",
        "\n",
        "# ***Visit me online at [EvidenceN.com](https://evidencen.com/)***\n",
        "\n",
        "# **Bye**."
      ]
    }
  ]
}